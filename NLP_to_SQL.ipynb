{
 "cells": [
  {
   "cell_type": "code",
   "execution_count": 45,
   "metadata": {},
   "outputs": [],
   "source": [
    "from dotenv import load_dotenv\n",
    "import openai\n",
    "import os\n",
    "import langchain.llms as llms\n",
    "from langchain.chat_models import ChatOpenAI\n",
    "from langchain.chains import create_sql_query_chain\n",
    "from langchain import HuggingFaceHub, LLMChain\n",
    "import pandas as pd\n",
    "import sqlite3\n",
    "from langchain_community.utilities import SQLDatabase\n",
    "from langchain.prompts import PromptTemplate\n",
    "import openpyxl\n",
    "from langchain.sql_database import SQLDatabase\n",
    "from langchain_community.agent_toolkits import create_sql_agent"
   ]
  },
  {
   "cell_type": "code",
   "execution_count": 26,
   "metadata": {},
   "outputs": [
    {
     "name": "stdout",
     "output_type": "stream",
     "text": [
      "The current working directory: C:\\Users\\nithi\\OneDrive - University of Illinois Chicago\\Documents\\Capstone project\\LLM project\n"
     ]
    }
   ],
   "source": [
    "working_dir = \"C:/Users/nithi/OneDrive - University of Illinois Chicago/Documents/Capstone project/LLM project\"\n",
    "os.chdir(working_dir)\n",
    "\n",
    "print(f\"The current working directory: {os.getcwd()}\")"
   ]
  },
  {
   "cell_type": "code",
   "execution_count": 27,
   "metadata": {},
   "outputs": [
    {
     "name": "stdout",
     "output_type": "stream",
     "text": [
      "Excel data from 'dataset.xlsx' has been successfully saved to 'dataset.db' in the table 'models'.\n"
     ]
    }
   ],
   "source": [
    "# Load Excel file\n",
    "excel_file = 'dataset.xlsx' \n",
    "df = pd.read_excel(excel_file, sheet_name=0)  # Reads the first sheet\n",
    "\n",
    "# Save to SQLite DB\n",
    "db_file = 'dataset.db'  \n",
    "conn = sqlite3.connect(db_file)\n",
    "table_name = 'models'\n",
    "df.to_sql(table_name, conn, if_exists='replace', index=False)\n",
    "conn.close()\n",
    "\n",
    "print(f\"Excel data from '{excel_file}' has been successfully saved to '{db_file}' in the table '{table_name}'.\")\n"
   ]
  },
  {
   "cell_type": "code",
   "execution_count": 64,
   "metadata": {},
   "outputs": [
    {
     "name": "stdout",
     "output_type": "stream",
     "text": [
      "sqlite\n",
      "['models']\n"
     ]
    },
    {
     "data": {
      "text/plain": [
       "\"[('Model 1', 'Multi-Class', '[1,2,3]', '2022-04-07 00:00:00', '[1218, 1873, 1245]', '[[0.71, 0.76, 0.81], [0.76, 0.81, 0.81], [0.78, 0.88, 0.93]]', 'Nationwide'), ('Model 1', 'Multi-Class', '[1,2,3]', '2022-04-08 00:00:00', '[2014, 4559, 4492]', '[[0.83, 0.91, 0.74], [0.86, 0.75, 0.89], [0.9, 0.81, 0.75]]', 'Nationwide'), ('Model 1', 'Multi-Class', '[1,2,3]', '2022-04-09 00:00:00', '[2270, 4990, 3276]', '[[0.81, 0.76, 0.8], [0.92, 0.8, 0.73], [0.8, 0.77, 0.86]]', 'Nationwide')]\""
      ]
     },
     "execution_count": 64,
     "metadata": {},
     "output_type": "execute_result"
    }
   ],
   "source": [
    "db = SQLDatabase.from_uri(\"sqlite:///dataset.db\")\n",
    "print(db.dialect)\n",
    "print(db.get_usable_table_names())\n",
    "db.run('SELECT * FROM models limit 3;')"
   ]
  },
  {
   "cell_type": "code",
   "execution_count": 63,
   "metadata": {},
   "outputs": [
    {
     "name": "stdout",
     "output_type": "stream",
     "text": [
      "Generate a SQL query to answer this question: How many records are there in models table\n",
      "SQLQuery: . Using the table info: \n",
      "CREATE TABLE models (\n",
      "\t\"Model Name\" TEXT, \n",
      "\t\"Model Type\" TEXT, \n",
      "\t\"Model Version\" TEXT, \n",
      "\t\"Date\" TIMESTAMP, \n",
      "\t\"Daily Volume\" TEXT, \n",
      "\t\"Performance Metrics\" TEXT, \n",
      "\t\"Company Name\" TEXT\n",
      ")\n",
      "\n",
      "/*\n",
      "3 rows from models table:\n",
      "Model Name\tModel Type\tModel Version\tDate\tDaily Volume\tPerformance Metrics\tCompany Name\n",
      "Model 1\tMulti-Class\t[1,2,3]\t2022-04-07 00:00:00\t[1218, 1873, 1245]\t[[0.71, 0.76, 0.81], [0.76, 0.81, 0.81], [0.78, 0.88, 0.93]]\tNationwide\n",
      "Model 1\tMulti-Class\t[1,2,3]\t2022-04-08 00:00:00\t[2014, 4559, 4492]\t[[0.83, 0.91, 0.74], [0.86, 0.75, 0.89], [0.9, 0.81, 0.75]]\tNationwide\n",
      "Model 1\tMulti-Class\t[1,2,3]\t2022-04-09 00:00:00\t[2270, 4990, 3276]\t[[0.81, 0.76, 0.8], [0.92, 0.8, 0.73], [0.8, 0.77, 0.86]]\tNationwide\n",
      "*/, provide up to 5 SQL variations.\n"
     ]
    }
   ],
   "source": [
    "# Using GPT2 large model\n",
    "llm = HuggingFaceHub(repo_id=\"openai-community/gpt2-large\")\n",
    "\n",
    "prompt_template = PromptTemplate(\n",
    "    input_variables=[\"input\", \"top_k\", \"table_info\"],\n",
    "    template=\"Generate a SQL query to answer this question: {input}. Using the table info: {table_info}, provide up to {top_k} SQL variations.\"\n",
    ")\n",
    "chain = create_sql_query_chain(prompt=prompt_template, llm=llm, db=db)\n",
    "response = chain.invoke({\"question\": \"How many records are there in models table\", \"top_k\": 5}) \n",
    "print(response)"
   ]
  },
  {
   "cell_type": "code",
   "execution_count": 59,
   "metadata": {},
   "outputs": [
    {
     "data": {
      "text/plain": [
       "PromptTemplate(input_variables=['input', 'table_info', 'top_k'], template='Given an input question, first create a syntactically correct query to run, then look at the results of the query and return the answer.\\nUse the following format:\\n\\nQuestion: \"How many records are there in models table\"\\nSQLQuery: \"SELECT COUNT(*) FROM models\"\\nSQLResult: \"3116\"\\nAnswer: \"3116\"\\n\\nOnly use the following tables:\\n\\n{table_info}.\\n\\nQuestion: {input}\\nprovide up to {top_k} SQL variations.')"
      ]
     },
     "execution_count": 59,
     "metadata": {},
     "output_type": "execute_result"
    }
   ],
   "source": [
    "from langchain_core.prompts import PromptTemplate\n",
    "\n",
    "template = '''Given an input question, first create a syntactically correct query to run, then look at the results of the query and return the answer.\n",
    "Use the following format:\n",
    "\n",
    "Question: \"How many records are there in models table\"\n",
    "SQLQuery: \"SELECT COUNT(*) FROM models\"\n",
    "SQLResult: \"3116\"\n",
    "Answer: \"3116\"\n",
    "\n",
    "Only use the following tables:\n",
    "\n",
    "{table_info}.\n",
    "\n",
    "Question: {input}\n",
    "provide up to {top_k} SQL variations.'''\n",
    "prompt = PromptTemplate.from_template(template)\n",
    "prompt"
   ]
  },
  {
   "cell_type": "code",
   "execution_count": 60,
   "metadata": {},
   "outputs": [
    {
     "name": "stdout",
     "output_type": "stream",
     "text": [
      "Given an input question, first create a syntactically correct query to run, then look at the results of the query and return the answer.\n",
      "Use the following format:\n",
      "\n",
      "Question: \"How many records are there in models table\"\n",
      "SQLQuery: \"SELECT COUNT(*) FROM models\"\n"
     ]
    }
   ],
   "source": [
    "\n",
    "\n",
    "chain = create_sql_query_chain(prompt=prompt, llm=llm, db=db)\n",
    "\n",
    "response = chain.invoke({\"question\": \"How many records are there in models table\", \"top_k\": 5}) \n",
    "\n",
    "print(response)"
   ]
  }
 ],
 "metadata": {
  "kernelspec": {
   "display_name": "myenv",
   "language": "python",
   "name": "python3"
  },
  "language_info": {
   "codemirror_mode": {
    "name": "ipython",
    "version": 3
   },
   "file_extension": ".py",
   "mimetype": "text/x-python",
   "name": "python",
   "nbconvert_exporter": "python",
   "pygments_lexer": "ipython3",
   "version": "3.11.4"
  }
 },
 "nbformat": 4,
 "nbformat_minor": 2
}
